{
 "cells": [
  {
   "cell_type": "code",
   "execution_count": 1,
   "metadata": {
    "collapsed": true
   },
   "outputs": [],
   "source": [
    "#For installing graph-tool see https://gist.github.com/dlozeve/ed59bba8bc8cb9b21e2af36cc9766938\n",
    "#For handling some error on GTK see https://stackoverflow.com/questions/31021989/error-importing-gtk-module-no-module-named-repository-with-graph-tool"
   ]
  },
  {
   "cell_type": "code",
   "execution_count": 2,
   "metadata": {
    "collapsed": true
   },
   "outputs": [],
   "source": [
    "from collections import namedtuple\n",
    "import networkx as nx\n",
    "from os import listdir\n",
    "from os.path import isfile, join, abspath\n",
    "import xml.etree.ElementTree as ET"
   ]
  },
  {
   "cell_type": "code",
   "execution_count": 3,
   "metadata": {
    "collapsed": true
   },
   "outputs": [],
   "source": [
    "def read_file(mypath):\n",
    "    onlyfiles = [join(mypath, f) for f in listdir(mypath) if isfile(join(mypath, f))]\n",
    "    return onlyfiles\n",
    "\n",
    "def group_by_key(list_to_group):\n",
    "    \"\"\"given a list as l = [[1,2],[1,3], [3,2]]\n",
    "    returns a dictionary as {1: [2, 3], 3: [2]}\n",
    "    \"\"\"\n",
    "    return {k: list(map(lambda x: x[1], g)) for k,g in  groupby(list_to_group ,lambda x: x[0])}"
   ]
  },
  {
   "cell_type": "markdown",
   "metadata": {},
   "source": [
    "## Identify role distribution of people involved in the document collection"
   ]
  },
  {
   "cell_type": "code",
   "execution_count": 4,
   "metadata": {},
   "outputs": [
    {
     "name": "stdout",
     "output_type": "stream",
     "text": [
      "TIPO: [COUNT, DISTINCT] \n"
     ]
    },
    {
     "data": {
      "text/plain": [
       "{'anagrafica-titolare': [233, 203],\n",
       " 'dati-identificativi': [100, 100],\n",
       " 'persona-fisica': [160, 160],\n",
       " 'persona-giuridica': [1, 1],\n",
       " 'soggetto-controllante': [5, 5]}"
      ]
     },
     "execution_count": 4,
     "metadata": {},
     "output_type": "execute_result"
    }
   ],
   "source": [
    "files = read_file(\"data/CAD_TOTALE_100/\")\n",
    "\n",
    "rules = {}\n",
    "\n",
    "for file in files:\n",
    "    tree = ET.parse(file)\n",
    "    root = tree.getroot()\n",
    "    codici_fiscali = root.findall(\".//*[@c-fiscale]\")\n",
    "    for l in codici_fiscali:\n",
    "        #print(\"ciao\")\n",
    "        if(l.tag in rules.keys()):\n",
    "            rules[l.tag] = rules[l.tag] + [l.get(\"c-fiscale\")]\n",
    "        else: \n",
    "            rules[l.tag] = [l.get(\"c-fiscale\")]\n",
    "            \n",
    "            \n",
    "items = rules.items()\n",
    "#print(items)\n",
    "distribution = {key : [len(list_cf), len(set(list_cf))] for key, list_cf in items}\n",
    "print(\"TIPO: [COUNT, DISTINCT] \")\n",
    "distribution\n",
    "\n",
    "#unique_cf = set()\n",
    "#for k,v in items:\n",
    "#    s = set(v) \n",
    "#    print(len(v))\n",
    "#    unique_cf = unique_cf.union(s)\n",
    "#print(len(unique_cf))        "
   ]
  },
  {
   "cell_type": "markdown",
   "metadata": {},
   "source": [
    "## Create Node object"
   ]
  },
  {
   "cell_type": "code",
   "execution_count": 5,
   "metadata": {
    "collapsed": true
   },
   "outputs": [],
   "source": [
    "Node = namedtuple('Node', 'id cf edges type desc cat')"
   ]
  },
  {
   "cell_type": "code",
   "execution_count": 6,
   "metadata": {},
   "outputs": [
    {
     "name": "stdout",
     "output_type": "stream",
     "text": [
      "generated 380 nodes\n",
      "generated 399 edges\n"
     ]
    }
   ],
   "source": [
    "files = read_file(\"./data/CAD_TOTALE_100/\")\n",
    "#print(files[0])\n",
    "import xml.etree.ElementTree as ET\n",
    "\n",
    "count = 0\n",
    "codici_fiscali_map = {}\n",
    "nodes = []\n",
    "edges = []\n",
    "\n",
    "for file in files:\n",
    "#for file in ['../src/main/resources/CAD_TOTALE_100/029e4880992bf659a4b9469389beddb21affb5c25d85d590d0aabf71ca786668.xml']:\n",
    "    \n",
    "    tree = ET.parse(file)\n",
    "    root = tree.getroot()\n",
    "    el_forma_giuridica = root.find(\"dati-identificativi/forma-giuridica\")\n",
    "    forma_giuridica = el_forma_giuridica.text\n",
    "    forma_giuridica_code = el_forma_giuridica.get(\"c\")\n",
    "    #dati_identificativi_c_fiscale = root.find(\"dati-identificativi\").get(\"c-fiscale\")\n",
    "    \n",
    "    #insert other attributes\n",
    "    codici_fiscali = root.findall(\".//*[@c-fiscale]\")\n",
    "    extracted_cf = [(l.tag, l.get(\"c-fiscale\")) for l in codici_fiscali]\n",
    "    \n",
    "    dati_identificativi_c_fiscale = extracted_cf.pop(0)[1]\n",
    "    \n",
    "    if dati_identificativi_c_fiscale not in codici_fiscali_map:\n",
    "        id_current_node = count\n",
    "        codici_fiscali_map[dati_identificativi_c_fiscale] = id_current_node\n",
    "        nodes.append(Node(id = id_current_node, \n",
    "                cf = dati_identificativi_c_fiscale, \n",
    "                edges= extracted_cf, \n",
    "                desc = forma_giuridica,\n",
    "                cat = \"b\",\n",
    "                type = 'SOCIETA' \n",
    "               ))\n",
    "        count +=1 \n",
    "    else:\n",
    "        id_current_node = codici_fiscali_map[dati_identificativi_c_fiscale]\n",
    "        nodes[id_current_node] = (Node(id = id_current_node, \n",
    "                cf = dati_identificativi_c_fiscale, \n",
    "                edges= extracted_cf, \n",
    "                desc = forma_giuridica,\n",
    "                cat = \"b\",\n",
    "                type = 'SOCIETA' \n",
    "               ))\n",
    "    \n",
    "    for type_cf, cf in extracted_cf:\n",
    "        if(cf not in codici_fiscali_map):\n",
    "            codici_fiscali_map[cf] = count\n",
    "            nodes.append(Node(id = count, cf = cf, edges = [], desc = \"\", cat = \"r\", type = \"PERSONA\"))\n",
    "            count += 1\n",
    "            \n",
    "    new_edges = map(lambda x: (id_current_node, codici_fiscali_map[x[1]], x[0]), extracted_cf)        \n",
    "    edges.extend(new_edges)  \n",
    "    \n",
    "    \n",
    "#print(len(extracted_cf))    \n",
    "#print(len(nodes))\n",
    "print('generated %d nodes' %count)\n",
    "print('generated %d edges' %len(edges))"
   ]
  },
  {
   "cell_type": "markdown",
   "metadata": {
    "collapsed": true
   },
   "source": [
    "## Create a simple graph from a node list\n"
   ]
  },
  {
   "cell_type": "code",
   "execution_count": 7,
   "metadata": {
    "collapsed": true
   },
   "outputs": [],
   "source": [
    "graph_size = len(nodes)\n",
    "#g.add_nodes_from(range(0,graph_size))\n",
    "#g.add_edges_from(edges)\n",
    "#print(\"Adding %d nodes and %d edges\" %(len(list(x)),len(edges)))"
   ]
  },
  {
   "cell_type": "code",
   "execution_count": 8,
   "metadata": {},
   "outputs": [
    {
     "name": "stdout",
     "output_type": "stream",
     "text": [
      "[(0, 1, 'persona-fisica'), (0, 2, 'persona-fisica'), (0, 3, 'persona-fisica')]\n",
      "[Node(id=0, cf='029e4880992bf659a4b9469389beddb21affb5c25d85d590d0aabf71ca786668', edges=[('persona-fisica', 'dd24996015eb3e3c41f87280e4bbc49b4039c42d0b21ae31e3fcb3bab3b06c99'), ('persona-fisica', 'abe62ad46d05341736c5927e283fca86291e29a783e45937ae80a28c068f2eea'), ('persona-fisica', '011298f86adcb140924ac214e30a080f30c61b2f5948930ae1004b54d6340044')], type='SOCIETA', desc=\"SOCIETA' COOPERATIVA\", cat='b'), Node(id=1, cf='dd24996015eb3e3c41f87280e4bbc49b4039c42d0b21ae31e3fcb3bab3b06c99', edges=[], type='PERSONA', desc='', cat='r'), Node(id=2, cf='abe62ad46d05341736c5927e283fca86291e29a783e45937ae80a28c068f2eea', edges=[], type='PERSONA', desc='', cat='r')]\n"
     ]
    }
   ],
   "source": [
    "print(edges[0:3])\n",
    "print(nodes[0:3])"
   ]
  },
  {
   "cell_type": "markdown",
   "metadata": {},
   "source": [
    "## Add graph properties"
   ]
  },
  {
   "cell_type": "code",
   "execution_count": 9,
   "metadata": {
    "collapsed": true
   },
   "outputs": [],
   "source": [
    "import numpy\n",
    "g = nx.Graph()\n",
    "for n in nodes: \n",
    "    g.add_node(n.id, cf=n.cf, type=n.type, desc=n.desc, cat=n.cat)\n",
    "#g.add_edges_from(edges)\n",
    "for e in edges:\n",
    "    g.add_edge(e[0], e[1], label=e[2])\n",
    "name = \"CAD_TOTALE_100.gexf\"\n",
    "\n",
    "#pos = nx.spring_layout(g)\n",
    "pos = nx.fruchterman_reingold_layout(g)\n",
    "\n",
    "#for node,(x,y) in pos.items():\n",
    "#    g.node[node]['x'] = float(x)\n",
    "#    g.node[node]['y'] = float(y)\n",
    "\n",
    "##Da testare\n",
    "for node,(x,y) in pos.items():\n",
    "    g.node[node][\"viz\"] = {'position': {'x': float(x),\n",
    "                                        'y': float(y),\n",
    "                                        'z': float(0)\n",
    "                                       }\n",
    "                           }    \n",
    "    \n",
    "nx.write_gexf(g, name)"
   ]
  },
  {
   "cell_type": "markdown",
   "metadata": {},
   "source": [
    "## Visualize data with Plotly"
   ]
  },
  {
   "cell_type": "code",
   "execution_count": 10,
   "metadata": {
    "collapsed": true
   },
   "outputs": [],
   "source": [
    "import plotly.plotly as py\n",
    "from plotly.graph_objs import *"
   ]
  },
  {
   "cell_type": "code",
   "execution_count": 11,
   "metadata": {
    "collapsed": true
   },
   "outputs": [],
   "source": [
    "G = nx.read_gexf(name)\n",
    "\n",
    "edge_trace = Scatter(\n",
    "    x=[],\n",
    "    y=[],\n",
    "    text=[],\n",
    "    line=Line(width=0.5,color='#888'),\n",
    "    hoverinfo='none',\n",
    "    mode='lines')\n",
    "\n",
    "for edge in G.edges(data=True):\n",
    "    x0 = G.node[edge[0]]['viz']['position']['x']\n",
    "    y0 = G.node[edge[0]]['viz']['position']['y']\n",
    "    x1 = G.node[edge[1]]['viz']['position']['x']\n",
    "    y1 = G.node[edge[1]]['viz']['position']['y']\n",
    "    edge_trace['x'] += [x0, x1, None]\n",
    "    edge_trace['y'] += [y0, y1, None]\n",
    "    edge_trace['text'].append(edge[2]['label'])\n",
    "\n",
    "node_trace = Scatter(\n",
    "    x=[],\n",
    "    y=[],\n",
    "    text=[],\n",
    "    mode='markers',\n",
    "    hoverinfo='text',\n",
    "    marker=Marker(\n",
    "        showscale=True,\n",
    "        # colorscale options\n",
    "        # 'Greys' | 'Greens' | 'Bluered' | 'Hot' | 'Picnic' | 'Portland' |\n",
    "        # Jet' | 'RdBu' | 'Blackbody' | 'Earth' | 'Electric' | 'YIOrRd' | 'YIGnBu'\n",
    "        colorscale='YIGnBu',\n",
    "        reversescale=True,\n",
    "        color=[],\n",
    "        size=10,\n",
    "        colorbar=dict(\n",
    "            thickness=15,\n",
    "            title='Node Connections',\n",
    "            xanchor='left',\n",
    "            titleside='right'\n",
    "        ),\n",
    "        line=dict(width=2)))\n",
    "\n",
    "for node in G.nodes():\n",
    "    x = G.node[node]['viz']['position']['x']\n",
    "    y = G.node[node]['viz']['position']['y']\n",
    "    node_trace['x'].append(x)\n",
    "    node_trace['y'].append(y)\n"
   ]
  },
  {
   "cell_type": "code",
   "execution_count": 12,
   "metadata": {
    "collapsed": true
   },
   "outputs": [],
   "source": [
    "for node, adjacencies in enumerate(G.adjacency_list()):\n",
    "    node_trace['marker']['color'].append(len(adjacencies))\n",
    "    #node_info = '# of connections: '+str(len(adjacencies))+'\\n cf: '+G.node[str(node)]['cf']\n",
    "    node_info = '# of connections: {0} <br> cf: {1} <br> type: {2} <br> desc: {3}'.format( str(len(adjacencies)), G.node[str(node)]['cf'], G.node[str(node)]['type'], G.node[str(node)]['desc'])\n",
    "    node_trace['text'].append(node_info)\n"
   ]
  },
  {
   "cell_type": "code",
   "execution_count": 13,
   "metadata": {
    "collapsed": true
   },
   "outputs": [],
   "source": [
    "py.sign_in(\"chrispolo\", \"89nned6csl\")"
   ]
  },
  {
   "cell_type": "code",
   "execution_count": 14,
   "metadata": {},
   "outputs": [
    {
     "data": {
      "text/html": [
       "<iframe id=\"igraph\" scrolling=\"no\" style=\"border:none;\" seamless=\"seamless\" src=\"https://plot.ly/~chrispolo/1240.embed\" height=\"525px\" width=\"100%\"></iframe>"
      ],
      "text/plain": [
       "<plotly.tools.PlotlyDisplay object>"
      ]
     },
     "execution_count": 14,
     "metadata": {},
     "output_type": "execute_result"
    }
   ],
   "source": [
    "fig = Figure(data=Data([edge_trace, node_trace]),\n",
    "             layout=Layout(\n",
    "                title='<br>Network graph made with Python',\n",
    "                titlefont=dict(size=16),\n",
    "                showlegend=False,\n",
    "                hovermode='closest',\n",
    "                margin=dict(b=20,l=5,r=5,t=40),\n",
    "                annotations=[ dict(\n",
    "                    text=\"Python code: <a href='https://plot.ly/ipython-notebooks/network-graphs/'> https://plot.ly/ipython-notebooks/network-graphs/</a>\",\n",
    "                    showarrow=False,\n",
    "                    xref=\"paper\", yref=\"paper\",\n",
    "                    x=0.005, y=-0.002 ) ],\n",
    "                xaxis=XAxis(showgrid=False, zeroline=False, showticklabels=False),\n",
    "                yaxis=YAxis(showgrid=False, zeroline=False, showticklabels=False)))\n",
    "\n",
    "py.iplot(fig, filename='networkx')"
   ]
  },
  {
   "cell_type": "code",
   "execution_count": null,
   "metadata": {
    "collapsed": true
   },
   "outputs": [],
   "source": []
  }
 ],
 "metadata": {
  "kernelspec": {
   "display_name": "Python 3",
   "language": "python",
   "name": "python3"
  },
  "language_info": {
   "codemirror_mode": {
    "name": "ipython",
    "version": 3
   },
   "file_extension": ".py",
   "mimetype": "text/x-python",
   "name": "python",
   "nbconvert_exporter": "python",
   "pygments_lexer": "ipython3",
   "version": "3.6.1"
  }
 },
 "nbformat": 4,
 "nbformat_minor": 2
}
